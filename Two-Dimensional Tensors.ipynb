{
 "cells": [
  {
   "cell_type": "code",
   "execution_count": 1,
   "id": "4975f0a6-c6b0-4e4d-abd7-247db947b5f6",
   "metadata": {},
   "outputs": [],
   "source": [
    "import torch"
   ]
  },
  {
   "cell_type": "code",
   "execution_count": 2,
   "id": "c6e7c066-c474-41f1-ad51-208f2d29a147",
   "metadata": {},
   "outputs": [],
   "source": [
    "a = [[11,12,13], [21,22,23], [31,32,33]]"
   ]
  },
  {
   "cell_type": "code",
   "execution_count": 3,
   "id": "14710391-6116-4f0e-b5e8-8240e36b541b",
   "metadata": {},
   "outputs": [],
   "source": [
    "A = torch.tensor(a)"
   ]
  },
  {
   "cell_type": "code",
   "execution_count": 5,
   "id": "b4e81153-37c3-4148-9d51-b41cdc32056c",
   "metadata": {},
   "outputs": [
    {
     "data": {
      "text/plain": [
       "2"
      ]
     },
     "execution_count": 5,
     "metadata": {},
     "output_type": "execute_result"
    }
   ],
   "source": [
    "A.ndimension() # aka Rank"
   ]
  },
  {
   "cell_type": "code",
   "execution_count": 7,
   "id": "b6521eec-1c62-4d99-8fc4-3e28223e44ae",
   "metadata": {},
   "outputs": [
    {
     "data": {
      "text/plain": [
       "torch.Size([3, 3])"
      ]
     },
     "execution_count": 7,
     "metadata": {},
     "output_type": "execute_result"
    }
   ],
   "source": [
    "A.shape"
   ]
  },
  {
   "cell_type": "code",
   "execution_count": 9,
   "id": "50d0012f-0c6d-47f8-ae77-363426a38da1",
   "metadata": {},
   "outputs": [],
   "source": [
    "# Vertical axis is 0, horizontal axis is 1\n",
    "# row, column"
   ]
  },
  {
   "cell_type": "code",
   "execution_count": 10,
   "id": "5f71d285-acfe-4cad-8583-5bdfc672addd",
   "metadata": {},
   "outputs": [],
   "source": [
    "B = A*2"
   ]
  },
  {
   "cell_type": "code",
   "execution_count": 11,
   "id": "b72d3e4c-5b65-4db9-b8dd-fcb4da1f466a",
   "metadata": {},
   "outputs": [
    {
     "data": {
      "text/plain": [
       "tensor([[22, 24, 26],\n",
       "        [42, 44, 46],\n",
       "        [62, 64, 66]])"
      ]
     },
     "execution_count": 11,
     "metadata": {},
     "output_type": "execute_result"
    }
   ],
   "source": [
    "B"
   ]
  },
  {
   "cell_type": "code",
   "execution_count": 12,
   "id": "90206bc2-cc28-4311-bc51-2fe19c2b2c21",
   "metadata": {},
   "outputs": [],
   "source": [
    "# Lab 2"
   ]
  },
  {
   "cell_type": "code",
   "execution_count": 13,
   "id": "5efb9f79-14ec-4bfd-846c-a77d318be9c8",
   "metadata": {},
   "outputs": [],
   "source": [
    "a = torch.tensor([[0,1,1],[1,0,1]])"
   ]
  },
  {
   "cell_type": "code",
   "execution_count": 14,
   "id": "49f59f13-696a-461a-8e7d-80f1e187d80f",
   "metadata": {},
   "outputs": [
    {
     "data": {
      "text/plain": [
       "torch.Size([2, 3])"
      ]
     },
     "execution_count": 14,
     "metadata": {},
     "output_type": "execute_result"
    }
   ],
   "source": [
    "a.size()"
   ]
  },
  {
   "cell_type": "code",
   "execution_count": 15,
   "id": "6379414c-4344-4c65-b419-46959081aca0",
   "metadata": {},
   "outputs": [
    {
     "data": {
      "text/plain": [
       "2"
      ]
     },
     "execution_count": 15,
     "metadata": {},
     "output_type": "execute_result"
    }
   ],
   "source": [
    "a.ndimension()"
   ]
  },
  {
   "cell_type": "code",
   "execution_count": 17,
   "id": "6ebb69b2-4cf5-44ba-8070-f8f46bbb747a",
   "metadata": {},
   "outputs": [],
   "source": [
    "X = torch.tensor([[1, 0], [0, 1]])\n",
    "Y = torch.tensor([[2, 1], [1, 2]]) \n",
    "X_times_Y = X * Y\n",
    "\n",
    "    "
   ]
  },
  {
   "cell_type": "code",
   "execution_count": 18,
   "id": "1e2715a3-76c7-41c1-81a9-0accbec95c58",
   "metadata": {},
   "outputs": [
    {
     "data": {
      "text/plain": [
       "tensor([[2, 0],\n",
       "        [0, 2]])"
      ]
     },
     "execution_count": 18,
     "metadata": {},
     "output_type": "execute_result"
    }
   ],
   "source": [
    "X_times_Y"
   ]
  },
  {
   "cell_type": "code",
   "execution_count": 19,
   "id": "4c287d7e-174c-4096-81d4-9fd3f1d311f8",
   "metadata": {},
   "outputs": [],
   "source": [
    "A = torch.tensor([[0, 1, 1], [1, 0, 1]])\n",
    "B = torch.tensor([[1, 1], [1, 1], [-1, 1]])\n",
    "A_times_B = torch.mm(A,B)"
   ]
  },
  {
   "cell_type": "code",
   "execution_count": 20,
   "id": "2491aa51-66ab-4849-b6c6-0d21a7c131e0",
   "metadata": {},
   "outputs": [
    {
     "data": {
      "text/plain": [
       "tensor([[0, 2],\n",
       "        [0, 2]])"
      ]
     },
     "execution_count": 20,
     "metadata": {},
     "output_type": "execute_result"
    }
   ],
   "source": [
    "A_times_B"
   ]
  }
 ],
 "metadata": {
  "kernelspec": {
   "display_name": "Python 3 (ipykernel)",
   "language": "python",
   "name": "python3"
  },
  "language_info": {
   "codemirror_mode": {
    "name": "ipython",
    "version": 3
   },
   "file_extension": ".py",
   "mimetype": "text/x-python",
   "name": "python",
   "nbconvert_exporter": "python",
   "pygments_lexer": "ipython3",
   "version": "3.7.15"
  }
 },
 "nbformat": 4,
 "nbformat_minor": 5
}
