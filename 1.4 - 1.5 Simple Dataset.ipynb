{
 "cells": [
  {
   "cell_type": "code",
   "execution_count": 1,
   "id": "3f1c6763",
   "metadata": {},
   "outputs": [],
   "source": [
    "import torch\n",
    "import pandas as pd"
   ]
  },
  {
   "cell_type": "code",
   "execution_count": 2,
   "id": "89f2be3a",
   "metadata": {},
   "outputs": [],
   "source": [
    "# Creating a dataset object and applying transforms"
   ]
  },
  {
   "cell_type": "code",
   "execution_count": 3,
   "id": "319dd538",
   "metadata": {},
   "outputs": [],
   "source": [
    "from torch.utils.data import Dataset # Class for images"
   ]
  },
  {
   "cell_type": "code",
   "execution_count": 5,
   "id": "b961c211",
   "metadata": {},
   "outputs": [],
   "source": [
    "class toy_set(Dataset):\n",
    "    \n",
    "    def __init__(self, length=100, transform=None):\n",
    "        \n",
    "        self.x = 2*torch.ones(length, 2)\n",
    "        self.y = torch.ones(length,1)\n",
    "        \n",
    "        self.len = length\n",
    "        self.transform = transform\n",
    "        \n",
    "        \n",
    "    def __getitem__(self, index):\n",
    "        \n",
    "        sample = self.x[index], self.y[index]\n",
    "        \n",
    "        if self.transform:\n",
    "            sample = self.transform(sample)\n",
    "            \n",
    "        return sample\n",
    "    \n",
    "\n",
    "    def __len__(self):\n",
    "        \n",
    "        return self.len"
   ]
  },
  {
   "cell_type": "code",
   "execution_count": null,
   "id": "45ef1139",
   "metadata": {},
   "outputs": [],
   "source": [
    "\n"
   ]
  }
 ],
 "metadata": {
  "kernelspec": {
   "display_name": "Python 3 (ipykernel)",
   "language": "python",
   "name": "python3"
  },
  "language_info": {
   "codemirror_mode": {
    "name": "ipython",
    "version": 3
   },
   "file_extension": ".py",
   "mimetype": "text/x-python",
   "name": "python",
   "nbconvert_exporter": "python",
   "pygments_lexer": "ipython3",
   "version": "3.7.15"
  }
 },
 "nbformat": 4,
 "nbformat_minor": 5
}
