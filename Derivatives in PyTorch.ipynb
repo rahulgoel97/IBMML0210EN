{
 "cells": [
  {
   "cell_type": "code",
   "execution_count": 1,
   "id": "ddcc9cfd-4b78-4c87-b63b-1f764fac3b96",
   "metadata": {},
   "outputs": [],
   "source": [
    "import torch"
   ]
  },
  {
   "cell_type": "code",
   "execution_count": 3,
   "id": "4d506cf9-85fb-44f6-9373-2bf913913935",
   "metadata": {},
   "outputs": [],
   "source": [
    "x = torch.tensor(2., requires_grad=True)"
   ]
  },
  {
   "cell_type": "code",
   "execution_count": 4,
   "id": "1f27e30e-d93b-4c83-8e7a-ced9d5d0566c",
   "metadata": {},
   "outputs": [],
   "source": [
    "y = x**2"
   ]
  },
  {
   "cell_type": "code",
   "execution_count": 5,
   "id": "22f7f73f-d449-47f5-85e1-7626c9344536",
   "metadata": {},
   "outputs": [
    {
     "data": {
      "text/plain": [
       "tensor(4., grad_fn=<PowBackward0>)"
      ]
     },
     "execution_count": 5,
     "metadata": {},
     "output_type": "execute_result"
    }
   ],
   "source": [
    "y"
   ]
  },
  {
   "cell_type": "code",
   "execution_count": 6,
   "id": "1c4a201d-cc9d-47ba-9b3c-dd1a5c57c3b3",
   "metadata": {},
   "outputs": [],
   "source": [
    "y.backward()"
   ]
  },
  {
   "cell_type": "code",
   "execution_count": 7,
   "id": "6e58bcb6-bb6b-40e5-bb2e-a147ebb0a000",
   "metadata": {},
   "outputs": [
    {
     "data": {
      "text/plain": [
       "tensor(4.)"
      ]
     },
     "execution_count": 7,
     "metadata": {},
     "output_type": "execute_result"
    }
   ],
   "source": [
    "x.grad"
   ]
  },
  {
   "cell_type": "code",
   "execution_count": 10,
   "id": "044caabe-a6b3-40f0-bb7d-4b47df1ee708",
   "metadata": {},
   "outputs": [],
   "source": [
    "z = x**2 + 2*x + 1 # f'(x) = 2x + 1 "
   ]
  },
  {
   "cell_type": "code",
   "execution_count": 12,
   "id": "4a91d440-cf7b-4b3b-aba9-2c1274487729",
   "metadata": {},
   "outputs": [
    {
     "data": {
      "text/plain": [
       "<bound method Tensor.backward of tensor(9., grad_fn=<AddBackward0>)>"
      ]
     },
     "execution_count": 12,
     "metadata": {},
     "output_type": "execute_result"
    }
   ],
   "source": [
    "z.backward"
   ]
  },
  {
   "cell_type": "code",
   "execution_count": 13,
   "id": "f6f110f4-1519-4ca0-9160-fe244e6a00e4",
   "metadata": {},
   "outputs": [
    {
     "data": {
      "text/plain": [
       "tensor(4.)"
      ]
     },
     "execution_count": 13,
     "metadata": {},
     "output_type": "execute_result"
    }
   ],
   "source": [
    "x.grad"
   ]
  },
  {
   "cell_type": "code",
   "execution_count": 14,
   "id": "149963f9-87bc-43bc-a486-c2b4aa621b79",
   "metadata": {},
   "outputs": [],
   "source": [
    "# Quiz"
   ]
  },
  {
   "cell_type": "code",
   "execution_count": 15,
   "id": "fa6a9cb3-5922-46e9-82a3-1074eb4f4cbc",
   "metadata": {},
   "outputs": [],
   "source": [
    "q = torch.tensor(1.0, requires_grad=True)"
   ]
  },
  {
   "cell_type": "code",
   "execution_count": 17,
   "id": "cd1e9cbc-2bf9-4b68-9b6f-73b16609b89b",
   "metadata": {},
   "outputs": [],
   "source": [
    "fq = 2*q**3 + q "
   ]
  },
  {
   "cell_type": "code",
   "execution_count": 18,
   "id": "2cd15042-31c0-4d13-915b-188be8f318e2",
   "metadata": {},
   "outputs": [],
   "source": [
    "fq.backward()"
   ]
  },
  {
   "cell_type": "code",
   "execution_count": 19,
   "id": "4a721027-c3bd-4052-9132-883559c0bdb7",
   "metadata": {},
   "outputs": [
    {
     "data": {
      "text/plain": [
       "tensor(7.)"
      ]
     },
     "execution_count": 19,
     "metadata": {},
     "output_type": "execute_result"
    }
   ],
   "source": [
    "q.grad # 6q^2 + 1 -> 7"
   ]
  },
  {
   "cell_type": "code",
   "execution_count": null,
   "id": "11447f8b-36a5-48d1-9a38-4612826b6f66",
   "metadata": {},
   "outputs": [],
   "source": []
  }
 ],
 "metadata": {
  "kernelspec": {
   "display_name": "Python 3 (ipykernel)",
   "language": "python",
   "name": "python3"
  },
  "language_info": {
   "codemirror_mode": {
    "name": "ipython",
    "version": 3
   },
   "file_extension": ".py",
   "mimetype": "text/x-python",
   "name": "python",
   "nbconvert_exporter": "python",
   "pygments_lexer": "ipython3",
   "version": "3.7.15"
  }
 },
 "nbformat": 4,
 "nbformat_minor": 5
}
